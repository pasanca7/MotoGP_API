{
 "cells": [
  {
   "cell_type": "markdown",
   "metadata": {},
   "source": [
    "<h2>Moto GP ETL</h2>"
   ]
  },
  {
   "cell_type": "code",
   "execution_count": 1,
   "metadata": {},
   "outputs": [
    {
     "name": "stderr",
     "output_type": "stream",
     "text": [
      "/home/pasanca_7/Escritorio/worksapce/MotoGP_API/.env/lib/python3.8/site-packages/tqdm/auto.py:21: TqdmWarning: IProgress not found. Please update jupyter and ipywidgets. See https://ipywidgets.readthedocs.io/en/stable/user_install.html\n",
      "  from .autonotebook import tqdm as notebook_tqdm\n"
     ]
    }
   ],
   "source": [
    "import kagglehub\n",
    "import pandas as pd\n",
    "from backend.models.Season import Season, Race\n",
    "from backend.utils.database import SessionLocal"
   ]
  },
  {
   "cell_type": "markdown",
   "metadata": {},
   "source": [
    "Download dataset"
   ]
  },
  {
   "cell_type": "code",
   "execution_count": 3,
   "metadata": {},
   "outputs": [],
   "source": [
    "dataset_path = '/home/pasanca_7/.cache/kagglehub/datasets/amalsalilan/motogpresultdataset/versions/1/'\n",
    "try:\n",
    "    df = pd.read_csv(dataset_path+\"/FILTERED_ROWS.csv\")\n",
    "except FileNotFoundError:\n",
    "    dataset_path = kagglehub.dataset_download(\"amalsalilan/motogpresultdataset\")\n",
    "    df = pd.read_csv(dataset_path+\"/FILTERED_ROWS.csv\")\n"
   ]
  },
  {
   "cell_type": "markdown",
   "metadata": {},
   "source": [
    "Create database connection"
   ]
  },
  {
   "cell_type": "code",
   "execution_count": 4,
   "metadata": {},
   "outputs": [],
   "source": [
    "db = SessionLocal()"
   ]
  },
  {
   "cell_type": "markdown",
   "metadata": {},
   "source": [
    "<h4>Load 2021 season data</h4>"
   ]
  },
  {
   "cell_type": "code",
   "execution_count": 5,
   "metadata": {},
   "outputs": [],
   "source": [
    "season21 = Season(\n",
    "    year=2021\n",
    ")\n",
    "db.add(season21)"
   ]
  },
  {
   "cell_type": "code",
   "execution_count": 11,
   "metadata": {},
   "outputs": [],
   "source": [
    "df21 = df[(df[\"year\"] == 2021) & (df[\"category\"] == \"MotoGP\")]\n",
    "races_df = df21.drop_duplicates(subset=[\"sequence\"], keep=\"first\")\n",
    "races_df = races_df[[\"sequence\",\"shortname\", \"circuit_name\"]]"
   ]
  },
  {
   "cell_type": "markdown",
   "metadata": {},
   "source": [
    "<h3>Races</h3>"
   ]
  },
  {
   "cell_type": "code",
   "execution_count": 12,
   "metadata": {},
   "outputs": [
    {
     "ename": "NameError",
     "evalue": "name 'season21' is not defined",
     "output_type": "error",
     "traceback": [
      "\u001b[0;31m---------------------------------------------------------------------------\u001b[0m",
      "\u001b[0;31mNameError\u001b[0m                                 Traceback (most recent call last)",
      "Cell \u001b[0;32mIn[12], line 7\u001b[0m\n\u001b[1;32m      1\u001b[0m races \u001b[38;5;241m=\u001b[39m []\n\u001b[1;32m      2\u001b[0m \u001b[38;5;28;01mfor\u001b[39;00m _, row \u001b[38;5;129;01min\u001b[39;00m races_df\u001b[38;5;241m.\u001b[39miterrows():\n\u001b[1;32m      3\u001b[0m     race \u001b[38;5;241m=\u001b[39m Race(\n\u001b[1;32m      4\u001b[0m         sequence\u001b[38;5;241m=\u001b[39mrow[\u001b[38;5;124m\"\u001b[39m\u001b[38;5;124msequence\u001b[39m\u001b[38;5;124m\"\u001b[39m],\n\u001b[1;32m      5\u001b[0m         short_name\u001b[38;5;241m=\u001b[39mrow[\u001b[38;5;124m\"\u001b[39m\u001b[38;5;124mshortname\u001b[39m\u001b[38;5;124m\"\u001b[39m],\n\u001b[1;32m      6\u001b[0m         circuit_name\u001b[38;5;241m=\u001b[39mrow[\u001b[38;5;124m\"\u001b[39m\u001b[38;5;124mcircuit_name\u001b[39m\u001b[38;5;124m\"\u001b[39m],\n\u001b[0;32m----> 7\u001b[0m         season\u001b[38;5;241m=\u001b[39m\u001b[43mseason21\u001b[49m\n\u001b[1;32m      8\u001b[0m     )\n\u001b[1;32m      9\u001b[0m     races\u001b[38;5;241m.\u001b[39mappend(race)\n\u001b[1;32m     10\u001b[0m db\u001b[38;5;241m.\u001b[39madd_all(races)\n",
      "\u001b[0;31mNameError\u001b[0m: name 'season21' is not defined"
     ]
    }
   ],
   "source": [
    "races = []\n",
    "for _, row in races_df.iterrows():\n",
    "    race = Race(\n",
    "        sequence=row[\"sequence\"],\n",
    "        short_name=row[\"shortname\"],\n",
    "        circuit_name=row[\"circuit_name\"],\n",
    "        season=season21\n",
    "    )\n",
    "    races.append(race)\n",
    "db.add_all(races)"
   ]
  },
  {
   "cell_type": "markdown",
   "metadata": {},
   "source": [
    "<h3>Teams</h3>"
   ]
  },
  {
   "cell_type": "code",
   "execution_count": 13,
   "metadata": {},
   "outputs": [],
   "source": [
    "teams = df21[[\"team_name\",\"bike_name\"]].drop_duplicates(subset=[\"team_name\",\"bike_name\"])"
   ]
  },
  {
   "cell_type": "markdown",
   "metadata": {},
   "source": [
    "<h3>Riders</h3>"
   ]
  },
  {
   "cell_type": "code",
   "execution_count": 31,
   "metadata": {},
   "outputs": [],
   "source": [
    "riders = df21[[\"rider\", \"rider_name\", \"number\", \"country\", \"team_name\"]].drop_duplicates(subset=[\"rider\"])"
   ]
  },
  {
   "cell_type": "code",
   "execution_count": 29,
   "metadata": {},
   "outputs": [],
   "source": [
    "contracts = df21.drop_duplicates(subset=([\"rider\"]))"
   ]
  },
  {
   "cell_type": "code",
   "execution_count": 32,
   "metadata": {},
   "outputs": [
    {
     "data": {
      "text/html": [
       "<div>\n",
       "<style scoped>\n",
       "    .dataframe tbody tr th:only-of-type {\n",
       "        vertical-align: middle;\n",
       "    }\n",
       "\n",
       "    .dataframe tbody tr th {\n",
       "        vertical-align: top;\n",
       "    }\n",
       "\n",
       "    .dataframe thead th {\n",
       "        text-align: right;\n",
       "    }\n",
       "</style>\n",
       "<table border=\"1\" class=\"dataframe\">\n",
       "  <thead>\n",
       "    <tr style=\"text-align: right;\">\n",
       "      <th></th>\n",
       "      <th>rider</th>\n",
       "      <th>rider_name</th>\n",
       "      <th>number</th>\n",
       "      <th>country</th>\n",
       "      <th>team_name</th>\n",
       "    </tr>\n",
       "  </thead>\n",
       "  <tbody>\n",
       "    <tr>\n",
       "      <th>55025</th>\n",
       "      <td>2428</td>\n",
       "      <td>Viñales, Maverick</td>\n",
       "      <td>12.0</td>\n",
       "      <td>ES</td>\n",
       "      <td>Monster Energy Yamaha MotoGP</td>\n",
       "    </tr>\n",
       "    <tr>\n",
       "      <th>55026</th>\n",
       "      <td>2330</td>\n",
       "      <td>Zarco, Johann</td>\n",
       "      <td>5.0</td>\n",
       "      <td>FR</td>\n",
       "      <td>Pramac Racing</td>\n",
       "    </tr>\n",
       "    <tr>\n",
       "      <th>55027</th>\n",
       "      <td>2499</td>\n",
       "      <td>Bagnaia, Francesco</td>\n",
       "      <td>63.0</td>\n",
       "      <td>IT</td>\n",
       "      <td>Ducati Lenovo Team</td>\n",
       "    </tr>\n",
       "    <tr>\n",
       "      <th>55028</th>\n",
       "      <td>2585</td>\n",
       "      <td>Mir, Joan</td>\n",
       "      <td>36.0</td>\n",
       "      <td>ES</td>\n",
       "      <td>Team SUZUKI ECSTAR</td>\n",
       "    </tr>\n",
       "    <tr>\n",
       "      <th>55029</th>\n",
       "      <td>2563</td>\n",
       "      <td>Quartararo, Fabio</td>\n",
       "      <td>20.0</td>\n",
       "      <td>FR</td>\n",
       "      <td>Monster Energy Yamaha MotoGP</td>\n",
       "    </tr>\n",
       "    <tr>\n",
       "      <th>55030</th>\n",
       "      <td>2471</td>\n",
       "      <td>Rins, Alex</td>\n",
       "      <td>42.0</td>\n",
       "      <td>ES</td>\n",
       "      <td>Team SUZUKI ECSTAR</td>\n",
       "    </tr>\n",
       "    <tr>\n",
       "      <th>55031</th>\n",
       "      <td>2152</td>\n",
       "      <td>Espargaro, Aleix</td>\n",
       "      <td>41.0</td>\n",
       "      <td>ES</td>\n",
       "      <td>Aprilia Racing Team Gresini</td>\n",
       "    </tr>\n",
       "    <tr>\n",
       "      <th>55032</th>\n",
       "      <td>2218</td>\n",
       "      <td>Espargaro, Pol</td>\n",
       "      <td>44.0</td>\n",
       "      <td>ES</td>\n",
       "      <td>Repsol Honda Team</td>\n",
       "    </tr>\n",
       "    <tr>\n",
       "      <th>55033</th>\n",
       "      <td>2445</td>\n",
       "      <td>Miller, Jack</td>\n",
       "      <td>43.0</td>\n",
       "      <td>AU</td>\n",
       "      <td>Ducati Lenovo Team</td>\n",
       "    </tr>\n",
       "    <tr>\n",
       "      <th>55034</th>\n",
       "      <td>2535</td>\n",
       "      <td>Bastianini, Enea</td>\n",
       "      <td>23.0</td>\n",
       "      <td>IT</td>\n",
       "      <td>Esponsorama Racing</td>\n",
       "    </tr>\n",
       "    <tr>\n",
       "      <th>55035</th>\n",
       "      <td>2174</td>\n",
       "      <td>Bradl, Stefan</td>\n",
       "      <td>6.0</td>\n",
       "      <td>DE</td>\n",
       "      <td>Repsol Honda Team</td>\n",
       "    </tr>\n",
       "    <tr>\n",
       "      <th>55036</th>\n",
       "      <td>1762</td>\n",
       "      <td>Rossi, Valentino</td>\n",
       "      <td>46.0</td>\n",
       "      <td>IT</td>\n",
       "      <td>Petronas Yamaha SRT</td>\n",
       "    </tr>\n",
       "    <tr>\n",
       "      <th>55037</th>\n",
       "      <td>2429</td>\n",
       "      <td>Oliveira, Miguel</td>\n",
       "      <td>88.0</td>\n",
       "      <td>PT</td>\n",
       "      <td>Red Bull KTM Factory Racing</td>\n",
       "    </tr>\n",
       "    <tr>\n",
       "      <th>55038</th>\n",
       "      <td>2450</td>\n",
       "      <td>Binder, Brad</td>\n",
       "      <td>33.0</td>\n",
       "      <td>ZA</td>\n",
       "      <td>Red Bull KTM Factory Racing</td>\n",
       "    </tr>\n",
       "    <tr>\n",
       "      <th>55039</th>\n",
       "      <td>2564</td>\n",
       "      <td>Martin, Jorge</td>\n",
       "      <td>89.0</td>\n",
       "      <td>ES</td>\n",
       "      <td>Pramac Racing</td>\n",
       "    </tr>\n",
       "    <tr>\n",
       "      <th>55040</th>\n",
       "      <td>2520</td>\n",
       "      <td>Marini, Luca</td>\n",
       "      <td>10.0</td>\n",
       "      <td>IT</td>\n",
       "      <td>SKY VR46 Esponsorama</td>\n",
       "    </tr>\n",
       "    <tr>\n",
       "      <th>55041</th>\n",
       "      <td>2597</td>\n",
       "      <td>Lecuona, Iker</td>\n",
       "      <td>27.0</td>\n",
       "      <td>ES</td>\n",
       "      <td>Tech 3 KTM Factory Racing</td>\n",
       "    </tr>\n",
       "    <tr>\n",
       "      <th>55042</th>\n",
       "      <td>2517</td>\n",
       "      <td>Morbidelli, Franco</td>\n",
       "      <td>21.0</td>\n",
       "      <td>IT</td>\n",
       "      <td>Petronas Yamaha SRT</td>\n",
       "    </tr>\n",
       "    <tr>\n",
       "      <th>55043</th>\n",
       "      <td>2294</td>\n",
       "      <td>Savadori, Lorenzo</td>\n",
       "      <td>32.0</td>\n",
       "      <td>IT</td>\n",
       "      <td>Aprilia Racing Team Gresini</td>\n",
       "    </tr>\n",
       "    <tr>\n",
       "      <th>55044</th>\n",
       "      <td>2475</td>\n",
       "      <td>Marquez, Alex</td>\n",
       "      <td>73.0</td>\n",
       "      <td>ES</td>\n",
       "      <td>LCR Honda CASTROL</td>\n",
       "    </tr>\n",
       "    <tr>\n",
       "      <th>55045</th>\n",
       "      <td>2284</td>\n",
       "      <td>Nakagami, Takaaki</td>\n",
       "      <td>30.0</td>\n",
       "      <td>JP</td>\n",
       "      <td>LCR Honda IDEMITSU</td>\n",
       "    </tr>\n",
       "    <tr>\n",
       "      <th>55046</th>\n",
       "      <td>2464</td>\n",
       "      <td>Petrucci, Danilo</td>\n",
       "      <td>9.0</td>\n",
       "      <td>IT</td>\n",
       "      <td>Tech 3 KTM Factory Racing</td>\n",
       "    </tr>\n",
       "    <tr>\n",
       "      <th>55187</th>\n",
       "      <td>2293</td>\n",
       "      <td>Marquez, Marc</td>\n",
       "      <td>93.0</td>\n",
       "      <td>ES</td>\n",
       "      <td>Repsol Honda Team</td>\n",
       "    </tr>\n",
       "    <tr>\n",
       "      <th>55277</th>\n",
       "      <td>2202</td>\n",
       "      <td>Rabat, Tito</td>\n",
       "      <td>53.0</td>\n",
       "      <td>ES</td>\n",
       "      <td>Pramac Racing</td>\n",
       "    </tr>\n",
       "    <tr>\n",
       "      <th>55470</th>\n",
       "      <td>2107</td>\n",
       "      <td>Pirro, Michele</td>\n",
       "      <td>51.0</td>\n",
       "      <td>IT</td>\n",
       "      <td>Pramac Racing</td>\n",
       "    </tr>\n",
       "    <tr>\n",
       "      <th>55730</th>\n",
       "      <td>2685</td>\n",
       "      <td>Gerloff, Garrett</td>\n",
       "      <td>31.0</td>\n",
       "      <td>US</td>\n",
       "      <td>Petronas Yamaha SRT</td>\n",
       "    </tr>\n",
       "    <tr>\n",
       "      <th>55819</th>\n",
       "      <td>2015</td>\n",
       "      <td>Pedrosa, Dani</td>\n",
       "      <td>26.0</td>\n",
       "      <td>ES</td>\n",
       "      <td>Red Bull KTM Factory Racing</td>\n",
       "    </tr>\n",
       "    <tr>\n",
       "      <th>55826</th>\n",
       "      <td>2425</td>\n",
       "      <td>Crutchlow, Cal</td>\n",
       "      <td>35.0</td>\n",
       "      <td>GB</td>\n",
       "      <td>Petronas Yamaha SRT</td>\n",
       "    </tr>\n",
       "    <tr>\n",
       "      <th>56001</th>\n",
       "      <td>2624</td>\n",
       "      <td>Dixon, Jake</td>\n",
       "      <td>96.0</td>\n",
       "      <td>GB</td>\n",
       "      <td>Petronas Yamaha SRT</td>\n",
       "    </tr>\n",
       "    <tr>\n",
       "      <th>56162</th>\n",
       "      <td>2055</td>\n",
       "      <td>Dovizioso, Andrea</td>\n",
       "      <td>4.0</td>\n",
       "      <td>IT</td>\n",
       "      <td>Petronas Yamaha SRT</td>\n",
       "    </tr>\n",
       "  </tbody>\n",
       "</table>\n",
       "</div>"
      ],
      "text/plain": [
       "       rider          rider_name  number country                     team_name\n",
       "55025   2428   Viñales, Maverick    12.0      ES  Monster Energy Yamaha MotoGP\n",
       "55026   2330       Zarco, Johann     5.0      FR                 Pramac Racing\n",
       "55027   2499  Bagnaia, Francesco    63.0      IT            Ducati Lenovo Team\n",
       "55028   2585           Mir, Joan    36.0      ES            Team SUZUKI ECSTAR\n",
       "55029   2563   Quartararo, Fabio    20.0      FR  Monster Energy Yamaha MotoGP\n",
       "55030   2471          Rins, Alex    42.0      ES            Team SUZUKI ECSTAR\n",
       "55031   2152    Espargaro, Aleix    41.0      ES   Aprilia Racing Team Gresini\n",
       "55032   2218      Espargaro, Pol    44.0      ES             Repsol Honda Team\n",
       "55033   2445        Miller, Jack    43.0      AU            Ducati Lenovo Team\n",
       "55034   2535    Bastianini, Enea    23.0      IT            Esponsorama Racing\n",
       "55035   2174       Bradl, Stefan     6.0      DE             Repsol Honda Team\n",
       "55036   1762    Rossi, Valentino    46.0      IT           Petronas Yamaha SRT\n",
       "55037   2429    Oliveira, Miguel    88.0      PT   Red Bull KTM Factory Racing\n",
       "55038   2450        Binder, Brad    33.0      ZA   Red Bull KTM Factory Racing\n",
       "55039   2564       Martin, Jorge    89.0      ES                 Pramac Racing\n",
       "55040   2520        Marini, Luca    10.0      IT          SKY VR46 Esponsorama\n",
       "55041   2597       Lecuona, Iker    27.0      ES     Tech 3 KTM Factory Racing\n",
       "55042   2517  Morbidelli, Franco    21.0      IT           Petronas Yamaha SRT\n",
       "55043   2294   Savadori, Lorenzo    32.0      IT   Aprilia Racing Team Gresini\n",
       "55044   2475       Marquez, Alex    73.0      ES             LCR Honda CASTROL\n",
       "55045   2284   Nakagami, Takaaki    30.0      JP            LCR Honda IDEMITSU\n",
       "55046   2464    Petrucci, Danilo     9.0      IT     Tech 3 KTM Factory Racing\n",
       "55187   2293       Marquez, Marc    93.0      ES             Repsol Honda Team\n",
       "55277   2202         Rabat, Tito    53.0      ES                 Pramac Racing\n",
       "55470   2107      Pirro, Michele    51.0      IT                 Pramac Racing\n",
       "55730   2685    Gerloff, Garrett    31.0      US           Petronas Yamaha SRT\n",
       "55819   2015       Pedrosa, Dani    26.0      ES   Red Bull KTM Factory Racing\n",
       "55826   2425      Crutchlow, Cal    35.0      GB           Petronas Yamaha SRT\n",
       "56001   2624         Dixon, Jake    96.0      GB           Petronas Yamaha SRT\n",
       "56162   2055   Dovizioso, Andrea     4.0      IT           Petronas Yamaha SRT"
      ]
     },
     "execution_count": 32,
     "metadata": {},
     "output_type": "execute_result"
    }
   ],
   "source": []
  },
  {
   "cell_type": "code",
   "execution_count": null,
   "metadata": {},
   "outputs": [],
   "source": [
    "db.commit()\n",
    "db.close()"
   ]
  }
 ],
 "metadata": {
  "kernelspec": {
   "display_name": ".env",
   "language": "python",
   "name": "python3"
  },
  "language_info": {
   "codemirror_mode": {
    "name": "ipython",
    "version": 3
   },
   "file_extension": ".py",
   "mimetype": "text/x-python",
   "name": "python",
   "nbconvert_exporter": "python",
   "pygments_lexer": "ipython3",
   "version": "3.8.10"
  }
 },
 "nbformat": 4,
 "nbformat_minor": 2
}
